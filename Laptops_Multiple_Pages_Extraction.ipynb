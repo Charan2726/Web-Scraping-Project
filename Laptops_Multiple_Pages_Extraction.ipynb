{
 "cells": [
  {
   "cell_type": "code",
   "execution_count": 2,
   "id": "3f5ee3fb-7861-4b3c-aa68-9e0d131a0314",
   "metadata": {},
   "outputs": [],
   "source": [
    "import numpy as np\n",
    "import pandas as pd\n",
    "import re\n",
    "import requests\n",
    "from bs4 import BeautifulSoup"
   ]
  },
  {
   "cell_type": "code",
   "execution_count": 3,
   "id": "619c56ca-7082-4910-ae27-e78008dd4379",
   "metadata": {},
   "outputs": [
    {
     "name": "stdout",
     "output_type": "stream",
     "text": [
      "https://www.flipkart.com/search?q=laptops&as=on&as-show=on&otracker=AS_Query_HistoryAutoSuggest_5_0_na_na_na&otracker1=AS_Query_HistoryAutoSuggest_5_0_na_na_na&as-pos=5&as-type=HISTORY&suggestionId=laptops&requestId=5d2ac1fd-a872-467d-b750-f81a9002504f&page=1\n",
      "https://www.flipkart.com/search?q=laptops&as=on&as-show=on&otracker=AS_Query_HistoryAutoSuggest_5_0_na_na_na&otracker1=AS_Query_HistoryAutoSuggest_5_0_na_na_na&as-pos=5&as-type=HISTORY&suggestionId=laptops&requestId=5d2ac1fd-a872-467d-b750-f81a9002504f&page=2\n",
      "https://www.flipkart.com/search?q=laptops&as=on&as-show=on&otracker=AS_Query_HistoryAutoSuggest_5_0_na_na_na&otracker1=AS_Query_HistoryAutoSuggest_5_0_na_na_na&as-pos=5&as-type=HISTORY&suggestionId=laptops&requestId=5d2ac1fd-a872-467d-b750-f81a9002504f&page=3\n",
      "https://www.flipkart.com/search?q=laptops&as=on&as-show=on&otracker=AS_Query_HistoryAutoSuggest_5_0_na_na_na&otracker1=AS_Query_HistoryAutoSuggest_5_0_na_na_na&as-pos=5&as-type=HISTORY&suggestionId=laptops&requestId=5d2ac1fd-a872-467d-b750-f81a9002504f&page=4\n",
      "https://www.flipkart.com/search?q=laptops&as=on&as-show=on&otracker=AS_Query_HistoryAutoSuggest_5_0_na_na_na&otracker1=AS_Query_HistoryAutoSuggest_5_0_na_na_na&as-pos=5&as-type=HISTORY&suggestionId=laptops&requestId=5d2ac1fd-a872-467d-b750-f81a9002504f&page=5\n",
      "https://www.flipkart.com/search?q=laptops&as=on&as-show=on&otracker=AS_Query_HistoryAutoSuggest_5_0_na_na_na&otracker1=AS_Query_HistoryAutoSuggest_5_0_na_na_na&as-pos=5&as-type=HISTORY&suggestionId=laptops&requestId=5d2ac1fd-a872-467d-b750-f81a9002504f&page=6\n",
      "https://www.flipkart.com/search?q=laptops&as=on&as-show=on&otracker=AS_Query_HistoryAutoSuggest_5_0_na_na_na&otracker1=AS_Query_HistoryAutoSuggest_5_0_na_na_na&as-pos=5&as-type=HISTORY&suggestionId=laptops&requestId=5d2ac1fd-a872-467d-b750-f81a9002504f&page=7\n",
      "https://www.flipkart.com/search?q=laptops&as=on&as-show=on&otracker=AS_Query_HistoryAutoSuggest_5_0_na_na_na&otracker1=AS_Query_HistoryAutoSuggest_5_0_na_na_na&as-pos=5&as-type=HISTORY&suggestionId=laptops&requestId=5d2ac1fd-a872-467d-b750-f81a9002504f&page=8\n",
      "https://www.flipkart.com/search?q=laptops&as=on&as-show=on&otracker=AS_Query_HistoryAutoSuggest_5_0_na_na_na&otracker1=AS_Query_HistoryAutoSuggest_5_0_na_na_na&as-pos=5&as-type=HISTORY&suggestionId=laptops&requestId=5d2ac1fd-a872-467d-b750-f81a9002504f&page=9\n",
      "https://www.flipkart.com/search?q=laptops&as=on&as-show=on&otracker=AS_Query_HistoryAutoSuggest_5_0_na_na_na&otracker1=AS_Query_HistoryAutoSuggest_5_0_na_na_na&as-pos=5&as-type=HISTORY&suggestionId=laptops&requestId=5d2ac1fd-a872-467d-b750-f81a9002504f&page=10\n",
      "https://www.flipkart.com/search?q=laptops&as=on&as-show=on&otracker=AS_Query_HistoryAutoSuggest_5_0_na_na_na&otracker1=AS_Query_HistoryAutoSuggest_5_0_na_na_na&as-pos=5&as-type=HISTORY&suggestionId=laptops&requestId=5d2ac1fd-a872-467d-b750-f81a9002504f&page=11\n",
      "https://www.flipkart.com/search?q=laptops&as=on&as-show=on&otracker=AS_Query_HistoryAutoSuggest_5_0_na_na_na&otracker1=AS_Query_HistoryAutoSuggest_5_0_na_na_na&as-pos=5&as-type=HISTORY&suggestionId=laptops&requestId=5d2ac1fd-a872-467d-b750-f81a9002504f&page=12\n",
      "https://www.flipkart.com/search?q=laptops&as=on&as-show=on&otracker=AS_Query_HistoryAutoSuggest_5_0_na_na_na&otracker1=AS_Query_HistoryAutoSuggest_5_0_na_na_na&as-pos=5&as-type=HISTORY&suggestionId=laptops&requestId=5d2ac1fd-a872-467d-b750-f81a9002504f&page=13\n",
      "https://www.flipkart.com/search?q=laptops&as=on&as-show=on&otracker=AS_Query_HistoryAutoSuggest_5_0_na_na_na&otracker1=AS_Query_HistoryAutoSuggest_5_0_na_na_na&as-pos=5&as-type=HISTORY&suggestionId=laptops&requestId=5d2ac1fd-a872-467d-b750-f81a9002504f&page=14\n",
      "https://www.flipkart.com/search?q=laptops&as=on&as-show=on&otracker=AS_Query_HistoryAutoSuggest_5_0_na_na_na&otracker1=AS_Query_HistoryAutoSuggest_5_0_na_na_na&as-pos=5&as-type=HISTORY&suggestionId=laptops&requestId=5d2ac1fd-a872-467d-b750-f81a9002504f&page=15\n",
      "https://www.flipkart.com/search?q=laptops&as=on&as-show=on&otracker=AS_Query_HistoryAutoSuggest_5_0_na_na_na&otracker1=AS_Query_HistoryAutoSuggest_5_0_na_na_na&as-pos=5&as-type=HISTORY&suggestionId=laptops&requestId=5d2ac1fd-a872-467d-b750-f81a9002504f&page=16\n",
      "https://www.flipkart.com/search?q=laptops&as=on&as-show=on&otracker=AS_Query_HistoryAutoSuggest_5_0_na_na_na&otracker1=AS_Query_HistoryAutoSuggest_5_0_na_na_na&as-pos=5&as-type=HISTORY&suggestionId=laptops&requestId=5d2ac1fd-a872-467d-b750-f81a9002504f&page=17\n",
      "https://www.flipkart.com/search?q=laptops&as=on&as-show=on&otracker=AS_Query_HistoryAutoSuggest_5_0_na_na_na&otracker1=AS_Query_HistoryAutoSuggest_5_0_na_na_na&as-pos=5&as-type=HISTORY&suggestionId=laptops&requestId=5d2ac1fd-a872-467d-b750-f81a9002504f&page=18\n",
      "https://www.flipkart.com/search?q=laptops&as=on&as-show=on&otracker=AS_Query_HistoryAutoSuggest_5_0_na_na_na&otracker1=AS_Query_HistoryAutoSuggest_5_0_na_na_na&as-pos=5&as-type=HISTORY&suggestionId=laptops&requestId=5d2ac1fd-a872-467d-b750-f81a9002504f&page=19\n",
      "https://www.flipkart.com/search?q=laptops&as=on&as-show=on&otracker=AS_Query_HistoryAutoSuggest_5_0_na_na_na&otracker1=AS_Query_HistoryAutoSuggest_5_0_na_na_na&as-pos=5&as-type=HISTORY&suggestionId=laptops&requestId=5d2ac1fd-a872-467d-b750-f81a9002504f&page=20\n"
     ]
    }
   ],
   "source": [
    "prices = []\n",
    "brands = []\n",
    "models = []\n",
    "processors = []\n",
    "RAM = []\n",
    "ROM = []\n",
    "os = []\n",
    "ss = []\n",
    "warranty = []\n",
    "\n",
    "for i in range(1,21):\n",
    "    print(\"https://www.flipkart.com/search?q=laptops&as=on&as-show=on&otracker=AS_Query_HistoryAutoSuggest_5_0_na_na_na&otracker1=AS_Query_HistoryAutoSuggest_5_0_na_na_na&as-pos=5&as-type=HISTORY&suggestionId=laptops&requestId=5d2ac1fd-a872-467d-b750-f81a9002504f&page=\"+str(i))\n",
    "    urls = \"https://www.flipkart.com/search?q=laptops&as=on&as-show=on&otracker=AS_Query_HistoryAutoSuggest_5_0_na_na_na&otracker1=AS_Query_HistoryAutoSuggest_5_0_na_na_na&as-pos=5&as-type=HISTORY&suggestionId=laptops&requestId=5d2ac1fd-a872-467d-b750-f81a9002504f&page=\"+str(i)\n",
    "    \n",
    "    page = requests.get(urls)\n",
    "    soup = BeautifulSoup(page.text)\n",
    "\n",
    "    p = soup.find_all(\"div\", class_= \"Nx9bqj _4b5DiR\")\n",
    "    for i in p:\n",
    "        prices.append(i.text)\n",
    "        \n",
    "    data = soup.find_all(\"div\", class_ = \"KzDlHZ\")\n",
    "    for i in data:\n",
    "        brands.append(i.text.split()[0])\n",
    "    \n",
    "    for i in data:\n",
    "        text = i.text.strip()\n",
    "        match = re.search(r'^\\w+\\s+(.*?)\\s+(AMD|Intel|Apple|)', text)\n",
    "        if match:\n",
    "            models.append(match.group(1))  \n",
    "   \n",
    "    b = soup.find_all(\"li\", class_=\"J+igdf\")\n",
    "\n",
    "    for i in b:\n",
    "        m = i.text\n",
    "        n = re.findall(r\"(\\d+)\\sYear|Years\",m)\n",
    "        if len(n) > 0:\n",
    "            warranty.append(n[0])\n",
    "\n",
    "    product_count = len(soup.find_all(\"div\", class_=\"tUxRFH\"))  # Count of products per page\n",
    "    current_index = 0\n",
    "    while current_index < product_count:\n",
    "        found = False\n",
    "        for i in b[current_index * 5 : (current_index + 1) * 5]:  # Approx 5 <li> tags per product\n",
    "            m = i.text\n",
    "            match = re.findall(r\"(Intel\\s[\\w\\s]*?Core\\s\\w+|AMD\\sRyzen\\s\\d+|Apple\\sM\\d(?:\\sPro|\\sMax)?|MediaTek\\s[\\w\\s]+\\d+)\", m)\n",
    "            if match:\n",
    "                processors.append(match[0])\n",
    "                found = True\n",
    "                break\n",
    "        if not found:\n",
    "            processors.append(\"Unknown\")\n",
    "        current_index += 1\n",
    "    \n",
    "    c = soup.find_all(\"div\", class_=\"KzDlHZ\")\n",
    "    for i in c:\n",
    "        try:\n",
    "            specs = i.text.split(\"-\")[1].split(\"(\")[1].split(\"/\")\n",
    "    \n",
    "            ram_value = specs[0].split(\" \")[0]\n",
    "            rom_value = specs[1].split(\" \")[0]\n",
    "    \n",
    "            RAM.append(ram_value)\n",
    "            ROM.append(rom_value)\n",
    "        except (IndexError, ValueError):\n",
    "            RAM.append(None)\n",
    "            ROM.append(None)\n",
    "    \n",
    "    d = soup.find_all(\"li\", class_= \"J+igdf\")\n",
    "    \n",
    "    for i in d:\n",
    "        m = i.get_text()\n",
    "        n = re.findall(r\"(\\d+(?:\\.\\d+)?)\\s?inch\", m, re.IGNORECASE)\n",
    "        if len(n) > 0:\n",
    "            ss.append(n[0])\n",
    "        \n",
    "    product_blocks = soup.find_all(\"div\", class_=\"tUxRFH\")  # One block per product\n",
    "    for block in product_blocks:\n",
    "        lis = block.find_all(\"li\", class_=\"J+igdf\")\n",
    "        found_os = None\n",
    "        for li in lis:\n",
    "            m = li.text\n",
    "            match = re.search(r\"(Windows\\s\\d+|macOS|Chrome(?:\\sOS)?)\", m, re.IGNORECASE)\n",
    "            if match:\n",
    "                found_os = match.group(0)\n",
    "                break\n",
    "        os.append(found_os if found_os else \"Unknown\")\n"
   ]
  },
  {
   "cell_type": "code",
   "execution_count": 4,
   "id": "48eafa65-37a7-4e3e-8dd4-dffaac74d883",
   "metadata": {},
   "outputs": [
    {
     "name": "stdout",
     "output_type": "stream",
     "text": [
      "Prices: 480\n",
      "Brands: 480\n",
      "Models: 480\n",
      "Processors: 480\n",
      "RAM: 480\n",
      "ROM: 480\n",
      "OS: 480\n",
      "SS: 481\n",
      "Warranty: 436\n"
     ]
    }
   ],
   "source": [
    "print(\"Prices:\",len(prices))\n",
    "print(\"Brands:\",len(brands))\n",
    "print(\"Models:\",len(models))\n",
    "print(\"Processors:\",len(processors))\n",
    "print(\"RAM:\",len(RAM))\n",
    "print(\"ROM:\",len(ROM))\n",
    "print(\"OS:\",len(os))\n",
    "print(\"SS:\",len(ss))\n",
    "print(\"Warranty:\", len(warranty))"
   ]
  },
  {
   "cell_type": "code",
   "execution_count": 5,
   "id": "1e317813-a82d-4b32-87c5-8649f69e2bb2",
   "metadata": {},
   "outputs": [
    {
     "data": {
      "text/plain": [
       "480"
      ]
     },
     "execution_count": 5,
     "metadata": {},
     "output_type": "execute_result"
    }
   ],
   "source": [
    "f = ss[0:480]\n",
    "len(f)"
   ]
  },
  {
   "cell_type": "code",
   "execution_count": 7,
   "id": "0543e0be-ca9a-4b3e-8c32-3d0ec9904b5e",
   "metadata": {},
   "outputs": [],
   "source": [
    "while len(warranty) < 480:\n",
    "    warranty.append(\"1\")"
   ]
  },
  {
   "cell_type": "code",
   "execution_count": 8,
   "id": "ea9bf590-2851-4cd0-97af-962159477cd2",
   "metadata": {},
   "outputs": [
    {
     "data": {
      "text/plain": [
       "480"
      ]
     },
     "execution_count": 8,
     "metadata": {},
     "output_type": "execute_result"
    }
   ],
   "source": [
    "len(warranty)"
   ]
  },
  {
   "cell_type": "code",
   "execution_count": 9,
   "id": "deef5ef6-8ce2-4021-a445-b6f38d3dbf17",
   "metadata": {},
   "outputs": [],
   "source": [
    "d = {\n",
    "\"Brands\":brands,\n",
    "\"Models\": models,\n",
    "\"Prices\":prices,\n",
    "\"Processors\":processors,\n",
    "\"RAM\":RAM,\n",
    "\"ROM\":ROM,\n",
    "\"OS\":os,\n",
    "\"Display\":f,\n",
    "\"Warranty\":warranty}"
   ]
  },
  {
   "cell_type": "code",
   "execution_count": 10,
   "id": "02684384-e22d-46b4-9ca8-b9b2900b485f",
   "metadata": {},
   "outputs": [],
   "source": [
    "df = pd.DataFrame(d)"
   ]
  },
  {
   "cell_type": "code",
   "execution_count": 11,
   "id": "94a2488d-7416-4456-ac22-1fa3a9799865",
   "metadata": {},
   "outputs": [
    {
     "data": {
      "text/html": [
       "<div>\n",
       "<style scoped>\n",
       "    .dataframe tbody tr th:only-of-type {\n",
       "        vertical-align: middle;\n",
       "    }\n",
       "\n",
       "    .dataframe tbody tr th {\n",
       "        vertical-align: top;\n",
       "    }\n",
       "\n",
       "    .dataframe thead th {\n",
       "        text-align: right;\n",
       "    }\n",
       "</style>\n",
       "<table border=\"1\" class=\"dataframe\">\n",
       "  <thead>\n",
       "    <tr style=\"text-align: right;\">\n",
       "      <th></th>\n",
       "      <th>Brands</th>\n",
       "      <th>Models</th>\n",
       "      <th>Prices</th>\n",
       "      <th>Processors</th>\n",
       "      <th>RAM</th>\n",
       "      <th>ROM</th>\n",
       "      <th>OS</th>\n",
       "      <th>Display</th>\n",
       "      <th>Warranty</th>\n",
       "    </tr>\n",
       "  </thead>\n",
       "  <tbody>\n",
       "    <tr>\n",
       "      <th>0</th>\n",
       "      <td>Infinix</td>\n",
       "      <td>Y4</td>\n",
       "      <td>₹34,990</td>\n",
       "      <td>Intel Core i5</td>\n",
       "      <td>16</td>\n",
       "      <td>512</td>\n",
       "      <td>Windows 11</td>\n",
       "      <td>16</td>\n",
       "      <td>1</td>\n",
       "    </tr>\n",
       "    <tr>\n",
       "      <th>1</th>\n",
       "      <td>MSI</td>\n",
       "      <td>Thin</td>\n",
       "      <td>₹51,990</td>\n",
       "      <td>Intel Core i5</td>\n",
       "      <td>16</td>\n",
       "      <td>512</td>\n",
       "      <td>Windows 11</td>\n",
       "      <td>15.6</td>\n",
       "      <td>2</td>\n",
       "    </tr>\n",
       "    <tr>\n",
       "      <th>2</th>\n",
       "      <td>Acer</td>\n",
       "      <td>Aspire</td>\n",
       "      <td>₹15,980</td>\n",
       "      <td>Intel Celeron Dual Core Processor</td>\n",
       "      <td>8</td>\n",
       "      <td>128</td>\n",
       "      <td>Windows 11</td>\n",
       "      <td>11.6</td>\n",
       "      <td>1</td>\n",
       "    </tr>\n",
       "    <tr>\n",
       "      <th>3</th>\n",
       "      <td>ASUS</td>\n",
       "      <td>Vivobook</td>\n",
       "      <td>₹41,990</td>\n",
       "      <td>AMD Ryzen 3</td>\n",
       "      <td>8</td>\n",
       "      <td>512</td>\n",
       "      <td>Windows 11</td>\n",
       "      <td>15.6</td>\n",
       "      <td>1</td>\n",
       "    </tr>\n",
       "    <tr>\n",
       "      <th>4</th>\n",
       "      <td>Lenovo</td>\n",
       "      <td>IdeaPad</td>\n",
       "      <td>₹39,990</td>\n",
       "      <td>Unknown</td>\n",
       "      <td>16</td>\n",
       "      <td>512</td>\n",
       "      <td>Windows 11</td>\n",
       "      <td>15.6</td>\n",
       "      <td>1</td>\n",
       "    </tr>\n",
       "    <tr>\n",
       "      <th>...</th>\n",
       "      <td>...</td>\n",
       "      <td>...</td>\n",
       "      <td>...</td>\n",
       "      <td>...</td>\n",
       "      <td>...</td>\n",
       "      <td>...</td>\n",
       "      <td>...</td>\n",
       "      <td>...</td>\n",
       "      <td>...</td>\n",
       "    </tr>\n",
       "    <tr>\n",
       "      <th>475</th>\n",
       "      <td>DELL</td>\n",
       "      <td>Intel</td>\n",
       "      <td>₹59,740</td>\n",
       "      <td>Intel Core i5</td>\n",
       "      <td>8</td>\n",
       "      <td>1</td>\n",
       "      <td>Windows 11</td>\n",
       "      <td>14</td>\n",
       "      <td>1</td>\n",
       "    </tr>\n",
       "    <tr>\n",
       "      <th>476</th>\n",
       "      <td>ASUS</td>\n",
       "      <td>Vivobook</td>\n",
       "      <td>₹40,990</td>\n",
       "      <td>Intel Core i7</td>\n",
       "      <td>8</td>\n",
       "      <td>512</td>\n",
       "      <td>Windows 11</td>\n",
       "      <td>14</td>\n",
       "      <td>1</td>\n",
       "    </tr>\n",
       "    <tr>\n",
       "      <th>477</th>\n",
       "      <td>HP</td>\n",
       "      <td>Intel</td>\n",
       "      <td>₹51,490</td>\n",
       "      <td>Intel Core i7</td>\n",
       "      <td>16</td>\n",
       "      <td>512</td>\n",
       "      <td>Windows 11</td>\n",
       "      <td>15.6</td>\n",
       "      <td>1</td>\n",
       "    </tr>\n",
       "    <tr>\n",
       "      <th>478</th>\n",
       "      <td>DELL</td>\n",
       "      <td>Inspiron</td>\n",
       "      <td>₹49,790</td>\n",
       "      <td>Intel Core i3</td>\n",
       "      <td>16</td>\n",
       "      <td>512</td>\n",
       "      <td>Windows 11</td>\n",
       "      <td>15.6</td>\n",
       "      <td>1</td>\n",
       "    </tr>\n",
       "    <tr>\n",
       "      <th>479</th>\n",
       "      <td>HP</td>\n",
       "      <td>15s</td>\n",
       "      <td>₹33,990</td>\n",
       "      <td>Unknown</td>\n",
       "      <td>8</td>\n",
       "      <td>512</td>\n",
       "      <td>Windows 11</td>\n",
       "      <td>15.6</td>\n",
       "      <td>1</td>\n",
       "    </tr>\n",
       "  </tbody>\n",
       "</table>\n",
       "<p>480 rows × 9 columns</p>\n",
       "</div>"
      ],
      "text/plain": [
       "      Brands    Models   Prices                         Processors RAM  ROM  \\\n",
       "0    Infinix        Y4  ₹34,990                      Intel Core i5  16  512   \n",
       "1        MSI      Thin  ₹51,990                      Intel Core i5  16  512   \n",
       "2       Acer    Aspire  ₹15,980  Intel Celeron Dual Core Processor   8  128   \n",
       "3       ASUS  Vivobook  ₹41,990                        AMD Ryzen 3   8  512   \n",
       "4     Lenovo   IdeaPad  ₹39,990                            Unknown  16  512   \n",
       "..       ...       ...      ...                                ...  ..  ...   \n",
       "475     DELL     Intel  ₹59,740                      Intel Core i5   8    1   \n",
       "476     ASUS  Vivobook  ₹40,990                      Intel Core i7   8  512   \n",
       "477       HP     Intel  ₹51,490                      Intel Core i7  16  512   \n",
       "478     DELL  Inspiron  ₹49,790                      Intel Core i3  16  512   \n",
       "479       HP       15s  ₹33,990                            Unknown   8  512   \n",
       "\n",
       "             OS Display Warranty  \n",
       "0    Windows 11      16        1  \n",
       "1    Windows 11    15.6        2  \n",
       "2    Windows 11    11.6        1  \n",
       "3    Windows 11    15.6        1  \n",
       "4    Windows 11    15.6        1  \n",
       "..          ...     ...      ...  \n",
       "475  Windows 11      14        1  \n",
       "476  Windows 11      14        1  \n",
       "477  Windows 11    15.6        1  \n",
       "478  Windows 11    15.6        1  \n",
       "479  Windows 11    15.6        1  \n",
       "\n",
       "[480 rows x 9 columns]"
      ]
     },
     "execution_count": 11,
     "metadata": {},
     "output_type": "execute_result"
    }
   ],
   "source": [
    "df"
   ]
  },
  {
   "cell_type": "code",
   "execution_count": 12,
   "id": "ac597f22-85c6-4cd7-80b0-97688f0b4dcc",
   "metadata": {},
   "outputs": [
    {
     "name": "stdout",
     "output_type": "stream",
     "text": [
      "<class 'pandas.core.frame.DataFrame'>\n",
      "RangeIndex: 480 entries, 0 to 479\n",
      "Data columns (total 9 columns):\n",
      " #   Column      Non-Null Count  Dtype \n",
      "---  ------      --------------  ----- \n",
      " 0   Brands      480 non-null    object\n",
      " 1   Models      480 non-null    object\n",
      " 2   Prices      480 non-null    object\n",
      " 3   Processors  480 non-null    object\n",
      " 4   RAM         438 non-null    object\n",
      " 5   ROM         438 non-null    object\n",
      " 6   OS          480 non-null    object\n",
      " 7   Display     480 non-null    object\n",
      " 8   Warranty    480 non-null    object\n",
      "dtypes: object(9)\n",
      "memory usage: 33.9+ KB\n"
     ]
    }
   ],
   "source": [
    "df.info()"
   ]
  },
  {
   "cell_type": "code",
   "execution_count": 14,
   "id": "0c7e9ba7-222a-45e0-bd17-6f368d2785b4",
   "metadata": {},
   "outputs": [],
   "source": [
    "df.to_csv(r\"D:\\Laptop_Sales.csv\")"
   ]
  },
  {
   "cell_type": "code",
   "execution_count": 106,
   "id": "77f0afc1-e0db-4d94-9577-9895799bd1ad",
   "metadata": {},
   "outputs": [
    {
     "data": {
      "text/plain": [
       "RAM\n",
       "16    211\n",
       "8     171\n",
       "4      11\n",
       "24      7\n",
       "12      5\n",
       "32      5\n",
       "Name: count, dtype: int64"
      ]
     },
     "execution_count": 106,
     "metadata": {},
     "output_type": "execute_result"
    }
   ],
   "source": [
    "df[\"RAM\"].value_counts()"
   ]
  },
  {
   "cell_type": "code",
   "execution_count": 107,
   "id": "454eab8e-0160-4b3b-bb17-a00b6a81fd14",
   "metadata": {},
   "outputs": [
    {
     "data": {
      "text/plain": [
       "OS\n",
       "Windows 11    413\n",
       "Chrome         13\n",
       "Unknown         6\n",
       "Name: count, dtype: int64"
      ]
     },
     "execution_count": 107,
     "metadata": {},
     "output_type": "execute_result"
    }
   ],
   "source": [
    "df[\"OS\"].value_counts()"
   ]
  },
  {
   "cell_type": "code",
   "execution_count": 108,
   "id": "71a26732-ae97-431d-8968-cdd142e371cf",
   "metadata": {},
   "outputs": [
    {
     "data": {
      "text/html": [
       "<div>\n",
       "<style scoped>\n",
       "    .dataframe tbody tr th:only-of-type {\n",
       "        vertical-align: middle;\n",
       "    }\n",
       "\n",
       "    .dataframe tbody tr th {\n",
       "        vertical-align: top;\n",
       "    }\n",
       "\n",
       "    .dataframe thead th {\n",
       "        text-align: right;\n",
       "    }\n",
       "</style>\n",
       "<table border=\"1\" class=\"dataframe\">\n",
       "  <thead>\n",
       "    <tr style=\"text-align: right;\">\n",
       "      <th></th>\n",
       "      <th>Brands</th>\n",
       "      <th>Models</th>\n",
       "      <th>Prices</th>\n",
       "      <th>Processors</th>\n",
       "      <th>RAM</th>\n",
       "      <th>ROM</th>\n",
       "      <th>OS</th>\n",
       "      <th>Display</th>\n",
       "    </tr>\n",
       "  </thead>\n",
       "  <tbody>\n",
       "    <tr>\n",
       "      <th>145</th>\n",
       "      <td>Apple</td>\n",
       "      <td>MacBook</td>\n",
       "      <td>₹1,25,990</td>\n",
       "      <td>Apple M3 Pro</td>\n",
       "      <td>16</td>\n",
       "      <td>512</td>\n",
       "      <td>Unknown</td>\n",
       "      <td>14</td>\n",
       "    </tr>\n",
       "    <tr>\n",
       "      <th>152</th>\n",
       "      <td>Apple</td>\n",
       "      <td>MacBook</td>\n",
       "      <td>₹77,990</td>\n",
       "      <td>Intel Celeron Dual Core Processor</td>\n",
       "      <td>16</td>\n",
       "      <td>256</td>\n",
       "      <td>Unknown</td>\n",
       "      <td>11.6</td>\n",
       "    </tr>\n",
       "    <tr>\n",
       "      <th>173</th>\n",
       "      <td>HP</td>\n",
       "      <td>250</td>\n",
       "      <td>₹23,390</td>\n",
       "      <td>AMD Ryzen 5</td>\n",
       "      <td>8</td>\n",
       "      <td>256</td>\n",
       "      <td>Unknown</td>\n",
       "      <td>14</td>\n",
       "    </tr>\n",
       "    <tr>\n",
       "      <th>185</th>\n",
       "      <td>Apple</td>\n",
       "      <td>MacBook</td>\n",
       "      <td>₹1,63,990</td>\n",
       "      <td>Unknown</td>\n",
       "      <td>16</td>\n",
       "      <td>1</td>\n",
       "      <td>Unknown</td>\n",
       "      <td>15.6</td>\n",
       "    </tr>\n",
       "    <tr>\n",
       "      <th>200</th>\n",
       "      <td>Apple</td>\n",
       "      <td>Apple</td>\n",
       "      <td>₹1,44,990</td>\n",
       "      <td>AMD Ryzen 5</td>\n",
       "      <td>24</td>\n",
       "      <td>512</td>\n",
       "      <td>Unknown</td>\n",
       "      <td>15.6</td>\n",
       "    </tr>\n",
       "    <tr>\n",
       "      <th>218</th>\n",
       "      <td>Primebook</td>\n",
       "      <td>Wifi</td>\n",
       "      <td>₹13,490</td>\n",
       "      <td>MediaTek MT8183</td>\n",
       "      <td>4</td>\n",
       "      <td>64</td>\n",
       "      <td>Unknown</td>\n",
       "      <td>15.6</td>\n",
       "    </tr>\n",
       "  </tbody>\n",
       "</table>\n",
       "</div>"
      ],
      "text/plain": [
       "        Brands   Models     Prices                         Processors RAM  \\\n",
       "145      Apple  MacBook  ₹1,25,990                       Apple M3 Pro  16   \n",
       "152      Apple  MacBook    ₹77,990  Intel Celeron Dual Core Processor  16   \n",
       "173         HP      250    ₹23,390                        AMD Ryzen 5   8   \n",
       "185      Apple  MacBook  ₹1,63,990                            Unknown  16   \n",
       "200      Apple    Apple  ₹1,44,990                        AMD Ryzen 5  24   \n",
       "218  Primebook     Wifi    ₹13,490                    MediaTek MT8183   4   \n",
       "\n",
       "     ROM       OS Display  \n",
       "145  512  Unknown      14  \n",
       "152  256  Unknown    11.6  \n",
       "173  256  Unknown      14  \n",
       "185    1  Unknown    15.6  \n",
       "200  512  Unknown    15.6  \n",
       "218   64  Unknown    15.6  "
      ]
     },
     "execution_count": 108,
     "metadata": {},
     "output_type": "execute_result"
    }
   ],
   "source": [
    "df[df[\"OS\"] == \"Unknown\"]"
   ]
  },
  {
   "cell_type": "code",
   "execution_count": 109,
   "id": "2835f2c8-409e-46ca-b6ee-78cfc7bcb2c8",
   "metadata": {},
   "outputs": [
    {
     "name": "stdout",
     "output_type": "stream",
     "text": [
      "    Brands   Models     Prices                         Processors RAM  ROM  \\\n",
      "145  Apple  MacBook  ₹1,25,990                       Apple M3 Pro  16  512   \n",
      "152  Apple  MacBook    ₹77,990  Intel Celeron Dual Core Processor  16  256   \n",
      "185  Apple  MacBook  ₹1,63,990                            Unknown  16    1   \n",
      "200  Apple    Apple  ₹1,44,990                        AMD Ryzen 5  24  512   \n",
      "\n",
      "          OS Display  \n",
      "145  Unknown      14  \n",
      "152  Unknown    11.6  \n",
      "185  Unknown    15.6  \n",
      "200  Unknown    15.6  \n"
     ]
    }
   ],
   "source": [
    "x = df[(df[\"OS\"] == \"Unknown\") & (df[\"Brands\"] == \"Apple\")]\n",
    "print(x)"
   ]
  },
  {
   "cell_type": "code",
   "execution_count": 110,
   "id": "1bdfdfce-26e1-43dd-9bcb-2175f7cf118d",
   "metadata": {},
   "outputs": [],
   "source": [
    "df.loc[(df[\"Brands\"] == \"Apple\") & (df[\"OS\"].isin([\"Unknown\"])), \"OS\"] = \"Mac OS\""
   ]
  },
  {
   "cell_type": "code",
   "execution_count": 111,
   "id": "9c191444-bf9f-48b5-84c9-60138b3bb645",
   "metadata": {},
   "outputs": [
    {
     "data": {
      "text/plain": [
       "OS\n",
       "Windows 11    413\n",
       "Chrome         13\n",
       "Mac OS          4\n",
       "Unknown         2\n",
       "Name: count, dtype: int64"
      ]
     },
     "execution_count": 111,
     "metadata": {},
     "output_type": "execute_result"
    }
   ],
   "source": [
    "df[\"OS\"].value_counts()"
   ]
  },
  {
   "cell_type": "code",
   "execution_count": 80,
   "id": "a2bc1512-b624-4880-8d68-c1a1130ccb7a",
   "metadata": {},
   "outputs": [
    {
     "data": {
      "text/html": [
       "<div>\n",
       "<style scoped>\n",
       "    .dataframe tbody tr th:only-of-type {\n",
       "        vertical-align: middle;\n",
       "    }\n",
       "\n",
       "    .dataframe tbody tr th {\n",
       "        vertical-align: top;\n",
       "    }\n",
       "\n",
       "    .dataframe thead th {\n",
       "        text-align: right;\n",
       "    }\n",
       "</style>\n",
       "<table border=\"1\" class=\"dataframe\">\n",
       "  <thead>\n",
       "    <tr style=\"text-align: right;\">\n",
       "      <th></th>\n",
       "      <th>Brands</th>\n",
       "      <th>Models</th>\n",
       "      <th>Prices</th>\n",
       "      <th>Processors</th>\n",
       "      <th>RAM</th>\n",
       "      <th>ROM</th>\n",
       "      <th>OS</th>\n",
       "      <th>Display</th>\n",
       "    </tr>\n",
       "  </thead>\n",
       "  <tbody>\n",
       "    <tr>\n",
       "      <th>173</th>\n",
       "      <td>HP</td>\n",
       "      <td>250</td>\n",
       "      <td>₹23,390</td>\n",
       "      <td>AMD Ryzen 5</td>\n",
       "      <td>8</td>\n",
       "      <td>256</td>\n",
       "      <td>Unknown</td>\n",
       "      <td>14</td>\n",
       "    </tr>\n",
       "    <tr>\n",
       "      <th>218</th>\n",
       "      <td>Primebook</td>\n",
       "      <td>Wifi</td>\n",
       "      <td>₹13,490</td>\n",
       "      <td>MediaTek MT8183</td>\n",
       "      <td>4</td>\n",
       "      <td>64</td>\n",
       "      <td>Unknown</td>\n",
       "      <td>15.6</td>\n",
       "    </tr>\n",
       "  </tbody>\n",
       "</table>\n",
       "</div>"
      ],
      "text/plain": [
       "        Brands Models   Prices       Processors RAM  ROM       OS Display\n",
       "173         HP    250  ₹23,390      AMD Ryzen 5   8  256  Unknown      14\n",
       "218  Primebook   Wifi  ₹13,490  MediaTek MT8183   4   64  Unknown    15.6"
      ]
     },
     "execution_count": 80,
     "metadata": {},
     "output_type": "execute_result"
    }
   ],
   "source": [
    "df[df[\"OS\"] == \"Unknown\"]"
   ]
  }
 ],
 "metadata": {
  "kernelspec": {
   "display_name": "Python [conda env:base] *",
   "language": "python",
   "name": "conda-base-py"
  },
  "language_info": {
   "codemirror_mode": {
    "name": "ipython",
    "version": 3
   },
   "file_extension": ".py",
   "mimetype": "text/x-python",
   "name": "python",
   "nbconvert_exporter": "python",
   "pygments_lexer": "ipython3",
   "version": "3.12.7"
  }
 },
 "nbformat": 4,
 "nbformat_minor": 5
}
